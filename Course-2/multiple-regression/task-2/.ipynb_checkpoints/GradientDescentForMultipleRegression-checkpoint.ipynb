{
 "cells": [
  {
   "cell_type": "code",
   "execution_count": 102,
   "metadata": {
    "collapsed": false
   },
   "outputs": [],
   "source": [
    "import graphlab\n",
    "import math\n",
    "import numpy as np\n",
    "import pdb"
   ]
  },
  {
   "cell_type": "code",
   "execution_count": 103,
   "metadata": {
    "collapsed": false
   },
   "outputs": [],
   "source": [
    "sales = graphlab.SFrame('kc_house_data.gl/')"
   ]
  },
  {
   "cell_type": "code",
   "execution_count": 104,
   "metadata": {
    "collapsed": true
   },
   "outputs": [],
   "source": [
    "# Create a features matrix and an output matrix from raw data\n",
    "def get_numpy_data(data_sframe, features, output):\n",
    "    data_sframe['constant'] = 1 # add a constant column to an SFrame\n",
    "    # prepend variable 'constant' to the features list\n",
    "    features = ['constant'] + features\n",
    "    \n",
    "    # select the columns of data_SFrame given by the ‘features’ list into the SFrame ‘features_sframe’\n",
    "    features_sframe = graphlab.SFrame()\n",
    "    for feature in features:\n",
    "        features_sframe[feature] = data_sframe[feature]\n",
    "        \n",
    "    # this will convert the features_sframe into a numpy matrix with GraphLab Create >= 1.7!!\n",
    "    features_matrix = features_sframe.to_numpy()\n",
    "    \n",
    "    # assign the column of data_sframe associated with the target to the variable ‘output_sarray’\n",
    "    output_sarray = data_sframe[output]\n",
    "    \n",
    "    # this will convert the SArray into a numpy array:\n",
    "    output_array = output_sarray.to_numpy() # GraphLab Create>= 1.7!!\n",
    "    return(features_matrix, output_array)"
   ]
  },
  {
   "cell_type": "code",
   "execution_count": 105,
   "metadata": {
    "collapsed": true
   },
   "outputs": [],
   "source": [
    "# Given features_matrix and a matrix of regression coefficients (weights), compute the outcome\n",
    "# Just the dot product of these two\n",
    "def predict_outcome(feature_matrix, weights):\n",
    "    predictions = np.dot(feature_matrix, weights)\n",
    "    return(predictions)"
   ]
  },
  {
   "cell_type": "code",
   "execution_count": 106,
   "metadata": {
    "collapsed": true
   },
   "outputs": [],
   "source": [
    "# the derivative of the regression cost function with respect to the weight of ‘feature’\n",
    "# is just twice the dot product between ‘feature’ and ‘errors’\n",
    "# Partial_Derivative(w) = -2H(y-Hw) from d/dw [(y-Hw)^2] \n",
    "def feature_derivative(errors, feature):\n",
    "    derivative = np.dot(errors, feature) * 2\n",
    "    return(derivative)"
   ]
  },
  {
   "cell_type": "code",
   "execution_count": 153,
   "metadata": {
    "collapsed": false
   },
   "outputs": [],
   "source": [
    "def regression_gradient_descent(feature_matrix, output, initial_weights, step_size, tolerance):\n",
    "    converged = False\n",
    "    weights = np.array(initial_weights)\n",
    "    \n",
    "    x = 0\n",
    "    while not converged:\n",
    "        # compute the predictions based on feature_matrix and weights:\n",
    "        predictions = predict_outcome(feature_matrix, weights)\n",
    "        \n",
    "        # compute the errors as predictions - output:\n",
    "        errors = predictions - output\n",
    "        \n",
    "        gradient_sum_squares = 0 # initialize the gradient\n",
    "        \n",
    "        # while not converged, update each weight individually:\n",
    "        for i in range(len(weights)):\n",
    "            # Recall that feature_matrix[:, i] is the feature column associated with weights[i]\n",
    "            # compute the derivative for weight[i]:\n",
    "            derivative = feature_derivative(errors, feature_matrix[:, i])\n",
    "            # add the squared derivative to the gradient magnitude\n",
    "            gradient_sum_squares += np.dot(derivative, derivative)\n",
    "            # update the weight based on step size and derivative:\n",
    "            weights[i] -= step_size * derivative\n",
    "            \n",
    "        gradient_magnitude = math.sqrt(gradient_sum_squares)\n",
    "        \n",
    "        x = x+1\n",
    "        \n",
    "        if x % 500 == 0:\n",
    "            break\n",
    "        \n",
    "        if x % 20 == 0:\n",
    "            print \"Mag = \" + str(gradient_magnitude)\n",
    "            \n",
    "        if gradient_magnitude < tolerance:\n",
    "            print \"Converged!\"\n",
    "            converged = True\n",
    "    return(weights)"
   ]
  },
  {
   "cell_type": "markdown",
   "metadata": {},
   "source": [
    "## Apply this gradient descent to solve house prices"
   ]
  },
  {
   "cell_type": "code",
   "execution_count": 154,
   "metadata": {
    "collapsed": true
   },
   "outputs": [],
   "source": [
    "train_data,test_data = sales.random_split(.8,seed=0)"
   ]
  },
  {
   "cell_type": "code",
   "execution_count": 155,
   "metadata": {
    "collapsed": false
   },
   "outputs": [
    {
     "name": "stdout",
     "output_type": "stream",
     "text": [
      "Mag = 271487891.86\n",
      "Converged!\n"
     ]
    },
    {
     "data": {
      "text/plain": [
       "array([-46999.88716555,    281.91211912])"
      ]
     },
     "execution_count": 155,
     "metadata": {},
     "output_type": "execute_result"
    }
   ],
   "source": [
    "# Train a model using sqft_living as the only feature\n",
    "simple_features = ['sqft_living']\n",
    "my_output= 'price'\n",
    "(simple_feature_matrix, output) = get_numpy_data(train_data, simple_features, my_output)\n",
    "initial_weights = np.array([-47000., 1.])\n",
    "step_size = 7e-12\n",
    "tolerance = 2.5e7\n",
    "\n",
    "simple_weights = regression_gradient_descent(simple_feature_matrix, output, initial_weights, step_size, tolerance)\n",
    "simple_weights"
   ]
  },
  {
   "cell_type": "code",
   "execution_count": 156,
   "metadata": {
    "collapsed": true
   },
   "outputs": [],
   "source": [
    "# Predict prices using estimated simple_weights\n",
    "def predict_prices_for_houses(data_sframe):\n",
    "    data_sframe['predicted_house_price'] = data_sframe.apply(lambda x: simple_weights[0] + simple_weights[1] * x['sqft_living'])"
   ]
  },
  {
   "cell_type": "code",
   "execution_count": 157,
   "metadata": {
    "collapsed": true
   },
   "outputs": [],
   "source": [
    "predict_prices_for_houses(test_data)"
   ]
  },
  {
   "cell_type": "code",
   "execution_count": 158,
   "metadata": {
    "collapsed": false
   },
   "outputs": [],
   "source": [
    "def calculate_squared_errors(data_sframe):\n",
    "    data_sframe['squared_error'] = data_sframe.apply(lambda x: ( (x['price'] - x['predicted_house_price']) ** 2 ))"
   ]
  },
  {
   "cell_type": "code",
   "execution_count": 159,
   "metadata": {
    "collapsed": true
   },
   "outputs": [],
   "source": [
    "calculate_squared_errors(test_data)"
   ]
  },
  {
   "cell_type": "code",
   "execution_count": 160,
   "metadata": {
    "collapsed": false
   },
   "outputs": [
    {
     "data": {
      "text/plain": [
       "275400047593155.94"
      ]
     },
     "execution_count": 160,
     "metadata": {},
     "output_type": "execute_result"
    }
   ],
   "source": [
    "test_data['squared_error'].sum()"
   ]
  },
  {
   "cell_type": "code",
   "execution_count": 161,
   "metadata": {
    "collapsed": false
   },
   "outputs": [
    {
     "name": "stdout",
     "output_type": "stream",
     "text": [
      "Mag = 5.64945676163e+11\n",
      "Mag = 4.44344738312e+11\n",
      "Mag = 3.49490968654e+11\n",
      "Mag = 2.74885526122e+11\n",
      "Mag = 2.16206023185e+11\n",
      "Mag = 1.70052767496e+11\n",
      "Mag = 1.33751795195e+11\n",
      "Mag = 1.05199950471e+11\n",
      "Mag = 82743035808.5\n",
      "Mag = 65079973367.3\n",
      "Mag = 51187424926.0\n",
      "Mag = 40260503117.9\n",
      "Mag = 31666138973.8\n",
      "Mag = 24906404042.8\n",
      "Mag = 19589662098.2\n",
      "Mag = 15407879056.9\n",
      "Mag = 12118776523.7\n",
      "Mag = 9531794999.22\n",
      "Mag = 7497053505.37\n"
     ]
    },
    {
     "data": {
      "text/plain": [
       "array([ -9.99999683e+04,   2.44526363e+02,   6.58726792e+01])"
      ]
     },
     "execution_count": 161,
     "metadata": {},
     "output_type": "execute_result"
    }
   ],
   "source": [
    "# Train a model using two features\n",
    "model_features = ['sqft_living', 'sqft_living15']\n",
    "my_output = 'price'\n",
    "(feature_matrix, output) = get_numpy_data(train_data, model_features,my_output)\n",
    "initial_weights = np.array([-100000., 1., 1.])\n",
    "step_size = 4e-12\n",
    "tolerance = 1e9\n",
    "\n",
    "multiple_weights = regression_gradient_descent(feature_matrix, output, initial_weights, step_size, tolerance)\n",
    "multiple_weights"
   ]
  },
  {
   "cell_type": "code",
   "execution_count": 117,
   "metadata": {
    "collapsed": false
   },
   "outputs": [
    {
     "data": {
      "text/plain": [
       "array([-119134.92916612,  -19133.92916612,  -19133.92916612])"
      ]
     },
     "execution_count": 117,
     "metadata": {},
     "output_type": "execute_result"
    }
   ],
   "source": [
    "multiple_weights"
   ]
  },
  {
   "cell_type": "code",
   "execution_count": null,
   "metadata": {
    "collapsed": true
   },
   "outputs": [],
   "source": []
  }
 ],
 "metadata": {
  "kernelspec": {
   "display_name": "Python 2",
   "language": "python",
   "name": "python2"
  },
  "language_info": {
   "codemirror_mode": {
    "name": "ipython",
    "version": 2
   },
   "file_extension": ".py",
   "mimetype": "text/x-python",
   "name": "python",
   "nbconvert_exporter": "python",
   "pygments_lexer": "ipython2",
   "version": "2.7.11"
  }
 },
 "nbformat": 4,
 "nbformat_minor": 0
}
