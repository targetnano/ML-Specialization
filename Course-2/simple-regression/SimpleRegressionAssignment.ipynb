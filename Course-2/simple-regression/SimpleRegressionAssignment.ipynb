{
 "cells": [
  {
   "cell_type": "code",
   "execution_count": 95,
   "metadata": {
    "collapsed": false
   },
   "outputs": [],
   "source": [
    "import graphlab"
   ]
  },
  {
   "cell_type": "code",
   "execution_count": 96,
   "metadata": {
    "collapsed": false
   },
   "outputs": [],
   "source": [
    "sales = graphlab.SFrame('kc_house_data.gl/')"
   ]
  },
  {
   "cell_type": "code",
   "execution_count": 97,
   "metadata": {
    "collapsed": true
   },
   "outputs": [],
   "source": [
    "train_data,test_data = sales.random_split(.8,seed=0)"
   ]
  },
  {
   "cell_type": "code",
   "execution_count": 98,
   "metadata": {
    "collapsed": false
   },
   "outputs": [
    {
     "data": {
      "text/plain": [
       "dtype: int\n",
       "Rows: 5\n",
       "[0, 1, 2, 3, 4]"
      ]
     },
     "execution_count": 98,
     "metadata": {},
     "output_type": "execute_result"
    }
   ],
   "source": [
    "graphlab.SArray(range(5))"
   ]
  },
  {
   "cell_type": "code",
   "execution_count": 113,
   "metadata": {
    "collapsed": true
   },
   "outputs": [],
   "source": [
    "# Create a simple regression model\n",
    "def simple_linear_regression(input_feature, output):\n",
    "    # numerator = (sum of X*Y) - (1/N)*((sum of X) * (sum of Y))\n",
    "    numerator = (input_feature * output).sum() - ((1 / float(len(output))) * (input_feature.sum() * output.sum()))\n",
    "    print numerator\n",
    "    # denominator = (sum of X^2) - (1/N)*((sum of X) * (sum of X))\n",
    "    denominator = (input_feature * input_feature).sum() - ((1 / float(len(output))) * (input_feature.sum() * input_feature.sum()))\n",
    "    print denominator\n",
    "    slope = numerator / denominator\n",
    "    \n",
    "    # intercept = (mean of Y) - slope * (mean of X)\n",
    "    intercept = output.mean() - slope * input_feature.mean()\n",
    "    return(intercept, slope)"
   ]
  },
  {
   "cell_type": "code",
   "execution_count": 114,
   "metadata": {
    "collapsed": false
   },
   "outputs": [
    {
     "name": "stdout",
     "output_type": "stream",
     "text": [
      "10.0\n",
      "10.0\n"
     ]
    }
   ],
   "source": [
    "sa = graphlab.SArray([1,2,3,4,5])\n",
    "intercept, slope = simple_linear_regression(sa, sa)"
   ]
  },
  {
   "cell_type": "code",
   "execution_count": 115,
   "metadata": {
    "collapsed": false
   },
   "outputs": [
    {
     "data": {
      "text/plain": [
       "(0.0, 1.0)"
      ]
     },
     "execution_count": 115,
     "metadata": {},
     "output_type": "execute_result"
    }
   ],
   "source": [
    "intercept, slope"
   ]
  },
  {
   "cell_type": "code",
   "execution_count": 116,
   "metadata": {
    "collapsed": false
   },
   "outputs": [
    {
     "name": "stdout",
     "output_type": "stream",
     "text": [
      "4.16317326566e+12\n",
      "14765180927.9\n"
     ]
    },
    {
     "data": {
      "text/plain": [
       "(-47116.076574939885, 281.9588385676974)"
      ]
     },
     "execution_count": 116,
     "metadata": {},
     "output_type": "execute_result"
    }
   ],
   "source": [
    "# Train the model using sqft as feature\n",
    "input_feature = train_data['sqft_living']\n",
    "output = train_data['price']\n",
    "squarfeet_intercept, squarfeet_slope = simple_linear_regression(input_feature, output)\n",
    "squarfeet_intercept, squarfeet_slope"
   ]
  },
  {
   "cell_type": "code",
   "execution_count": 117,
   "metadata": {
    "collapsed": false
   },
   "outputs": [],
   "source": [
    "# Predicts price given model params and input feature\n",
    "def get_regression_predictions(input_feature, intercept, slope):\n",
    "    predicted_output = intercept + (slope * input_feature)\n",
    "    return(predicted_output)"
   ]
  },
  {
   "cell_type": "code",
   "execution_count": 118,
   "metadata": {
    "collapsed": false
   },
   "outputs": [
    {
     "data": {
      "text/plain": [
       "700074.8456294582"
      ]
     },
     "execution_count": 118,
     "metadata": {},
     "output_type": "execute_result"
    }
   ],
   "source": [
    "# Predict price for a sample house\n",
    "get_regression_predictions(2650, squarfeet_intercept, squarfeet_slope)"
   ]
  },
  {
   "cell_type": "code",
   "execution_count": 119,
   "metadata": {
    "collapsed": true
   },
   "outputs": [],
   "source": [
    "# Return residual sum of squares\n",
    "def get_residual_sum_of_squares(input_feature, output, intercept, slope):\n",
    "    estimated_output = intercept + (input_feature * slope)\n",
    "    observed_error = output - estimated_output\n",
    "    RSS = (observed_error * observed_error).sum()\n",
    "    return(RSS)"
   ]
  },
  {
   "cell_type": "code",
   "execution_count": 120,
   "metadata": {
    "collapsed": false
   },
   "outputs": [],
   "source": [
    "# Find error from training set\n",
    "rss_sqft = get_residual_sum_of_squares(test_data['sqft_living'], test_data['price'], squarfeet_intercept, squarfeet_slope)"
   ]
  },
  {
   "cell_type": "code",
   "execution_count": 129,
   "metadata": {
    "collapsed": true
   },
   "outputs": [],
   "source": [
    "def inverse_regression_predictions(output, intercept, slope):\n",
    "    # y = mx + c => x = (y-c) / m\n",
    "    estimated_input = (output - intercept) / float(slope)\n",
    "    return(estimated_input)"
   ]
  },
  {
   "cell_type": "code",
   "execution_count": 130,
   "metadata": {
    "collapsed": false
   },
   "outputs": [
    {
     "data": {
      "text/plain": [
       "3004.3962476159445"
      ]
     },
     "execution_count": 130,
     "metadata": {},
     "output_type": "execute_result"
    }
   ],
   "source": [
    "inverse_regression_predictions(800000, squarfeet_intercept, squarfeet_slope)"
   ]
  },
  {
   "cell_type": "code",
   "execution_count": 123,
   "metadata": {
    "collapsed": false
   },
   "outputs": [
    {
     "name": "stdout",
     "output_type": "stream",
     "text": [
      "1822394156.19\n",
      "14283.322538\n"
     ]
    },
    {
     "data": {
      "text/plain": [
       "(109473.18046928738, 127588.95217458403)"
      ]
     },
     "execution_count": 123,
     "metadata": {},
     "output_type": "execute_result"
    }
   ],
   "source": [
    "# Train the model using bedrooms as feature\n",
    "input_feature = train_data['bedrooms']\n",
    "output = train_data['price']\n",
    "bedroom_intercept, bedroom_slope = simple_linear_regression(input_feature, output)\n",
    "bedroom_intercept, bedroom_slope"
   ]
  },
  {
   "cell_type": "code",
   "execution_count": 124,
   "metadata": {
    "collapsed": false
   },
   "outputs": [],
   "source": [
    "rss_bedroom = get_residual_sum_of_squares(test_data['bedrooms'], test_data['price'], bedroom_intercept, bedroom_slope)"
   ]
  },
  {
   "cell_type": "code",
   "execution_count": 125,
   "metadata": {
    "collapsed": false
   },
   "outputs": [
    {
     "data": {
      "text/plain": [
       "(275402936247141.47, 493364582868288.1)"
      ]
     },
     "execution_count": 125,
     "metadata": {},
     "output_type": "execute_result"
    }
   ],
   "source": [
    "rss_sqft, rss_bedroom"
   ]
  },
  {
   "cell_type": "code",
   "execution_count": 126,
   "metadata": {
    "collapsed": true
   },
   "outputs": [],
   "source": [
    "test_features = graphlab.SArray([0,1,2,3,4])\n",
    "test_output = graphlab.SArray([1,3,7,13,21])"
   ]
  },
  {
   "cell_type": "code",
   "execution_count": 127,
   "metadata": {
    "collapsed": false
   },
   "outputs": [
    {
     "name": "stdout",
     "output_type": "stream",
     "text": [
      "50.0\n",
      "10.0\n"
     ]
    },
    {
     "data": {
      "text/plain": [
       "(-1.0, 5.0)"
      ]
     },
     "execution_count": 127,
     "metadata": {},
     "output_type": "execute_result"
    }
   ],
   "source": [
    "simple_linear_regression(test_features, test_output)"
   ]
  },
  {
   "cell_type": "code",
   "execution_count": null,
   "metadata": {
    "collapsed": true
   },
   "outputs": [],
   "source": []
  }
 ],
 "metadata": {
  "kernelspec": {
   "display_name": "Python 2",
   "language": "python",
   "name": "python2"
  },
  "language_info": {
   "codemirror_mode": {
    "name": "ipython",
    "version": 2
   },
   "file_extension": ".py",
   "mimetype": "text/x-python",
   "name": "python",
   "nbconvert_exporter": "python",
   "pygments_lexer": "ipython2",
   "version": "2.7.11"
  }
 },
 "nbformat": 4,
 "nbformat_minor": 0
}
